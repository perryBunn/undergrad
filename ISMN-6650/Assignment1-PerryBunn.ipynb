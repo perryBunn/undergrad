{
 "cells": [
  {
   "cell_type": "code",
   "execution_count": 26,
   "metadata": {},
   "outputs": [
    {
     "name": "stdout",
     "output_type": "stream",
     "text": [
      "Meters to convert: 20\n",
      "0.012430080795525171 miles\n",
      "65.62 feet\n",
      "787.4 inches\n"
     ]
    }
   ],
   "source": [
    "meters = int(input(\"Meters to convert: \"))\n",
    "print(str(meters / 1609) + \" miles\")\n",
    "print(str(meters * 3.281) + \" feet\")\n",
    "print(str(meters * 39.37) + \" inches\")"
   ]
  },
  {
   "cell_type": "code",
   "execution_count": 17,
   "metadata": {},
   "outputs": [
    {
     "name": "stdout",
     "output_type": "stream",
     "text": [
      "   /\\\n",
      "  /  \\\n",
      " /    \\\n",
      "/      \\\n",
      "- - - - -\n",
      "  \"  \"\n",
      "  \"  \"\n",
      "  \"  \"\n"
     ]
    }
   ],
   "source": [
    "print(\"   /\\\\\")\n",
    "print(\"  /  \\\\\")\n",
    "print(\" /    \\\\\")\n",
    "print(\"/      \\\\\")\n",
    "print(\"- - - - -\")\n",
    "print(\"  \\\"  \\\"\")\n",
    "print(\"  \\\"  \\\"\")\n",
    "print(\"  \\\"  \\\"\")"
   ]
  },
  {
   "cell_type": "code",
   "execution_count": 25,
   "metadata": {},
   "outputs": [
    {
     "name": "stdout",
     "output_type": "stream",
     "text": [
      "Price of book: 50\n",
      "Number of books: 3\n",
      "Total: 167.25\n"
     ]
    }
   ],
   "source": [
    "price = int(input(\"Price of book: \"))\n",
    "number = int(input(\"Number of books: \"))\n",
    "print(\"Total: \" + str((price*number) + (2 * number) + ((price*number)*.075)))"
   ]
  },
  {
   "cell_type": "code",
   "execution_count": 24,
   "metadata": {
    "pycharm": {
     "name": "#%%\n"
    }
   },
   "outputs": [
    {
     "name": "stdout",
     "output_type": "stream",
     "text": [
      "Enter the number of movie rentals: 80\n",
      "Enter the number of members referred to the video club: 5\n",
      "The discount is equal to: 75 percent\n"
     ]
    }
   ],
   "source": [
    "number = int(input(\"Enter the number of movie rentals: \"))\n",
    "referred = int(input(\"Enter the number of members referred to the video club: \"))\n",
    "percent = number + referred\n",
    "if (percent > 75):\n",
    "    print(\"The discount is equal to: 75 percent\")\n",
    "else:\n",
    "    print(\"The discount is equal to: \" + str(percent) + \" percent\")"
   ]
  }
 ],
 "metadata": {
  "kernelspec": {
   "display_name": "Python 3",
   "language": "python",
   "name": "python3"
  },
  "language_info": {
   "codemirror_mode": {
    "name": "ipython",
    "version": 3
   },
   "file_extension": ".py",
   "mimetype": "text/x-python",
   "name": "python",
   "nbconvert_exporter": "python",
   "pygments_lexer": "ipython3",
   "version": "3.8.3"
  }
 },
 "nbformat": 4,
 "nbformat_minor": 4
}
