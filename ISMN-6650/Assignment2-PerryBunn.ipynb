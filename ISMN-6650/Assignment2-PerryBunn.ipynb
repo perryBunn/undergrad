{
 "cells": [
  {
   "cell_type": "code",
   "execution_count": 1,
   "metadata": {},
   "outputs": [
    {
     "name": "stdout",
     "output_type": "stream",
     "text": [
      "Perry Bunn\n"
     ]
    }
   ],
   "source": [
    "print(\"Perry Bunn\")"
   ]
  },
  {
   "cell_type": "code",
   "execution_count": 4,
   "metadata": {},
   "outputs": [
    {
     "name": "stdout",
     "output_type": "stream",
     "text": [
      "Enter a string: Perry\n",
      "Enter a string: Parry\n",
      "Enter a string: Eric\n",
      "['Eric', 'Parry', 'Perry']\n"
     ]
    }
   ],
   "source": [
    "one = input(\"Enter a string: \")\n",
    "two = input(\"Enter a string: \")\n",
    "three = input(\"Enter a string: \")\n",
    "sort = [one,two,three]\n",
    "a = sorted(sort)\n",
    "print(a)"
   ]
  },
  {
   "cell_type": "code",
   "execution_count": 7,
   "metadata": {},
   "outputs": [
    {
     "name": "stdout",
     "output_type": "stream",
     "text": [
      "Enter a string: Slk123noih.\n",
      "Contains only letters: False\n",
      "Contains only uppercase letters: False\n",
      "Contains only lowercase letters: False\n",
      "Contains only digits: False\n",
      "Contains only letters and digits: True\n",
      "Starts with an uppercase letter: True\n",
      "Ends with a period: True\n"
     ]
    }
   ],
   "source": [
    "string = input(\"Enter a string: \")\n",
    "\n",
    "onlyLetters = False\n",
    "onlyUpper = False\n",
    "onlyLower = False\n",
    "onlyDig = False\n",
    "mixedAlpha = False\n",
    "startUpper = False\n",
    "endPeriod = False\n",
    "\n",
    "seen = [False,False,False,False] #letter, upper, lower, digit\n",
    "\n",
    "if(string[0].isupper()):\n",
    "    startUpper = True\n",
    "if(string[-1] == \".\"):\n",
    "    endPeriod = True\n",
    "\n",
    "for i in range(len(string)):\n",
    "    if (string[i].isdigit()):\n",
    "        onlyLetters = False\n",
    "        seen[3] = True\n",
    "    if(string[i].isupper()):\n",
    "        seen[0] = True\n",
    "        seen[1] = True\n",
    "    if(string[i].islower()):\n",
    "        seen[0] = True\n",
    "        seen[2] = True\n",
    "\n",
    "if(seen[3] == False):\n",
    "    onlyLetters = True\n",
    "if(seen[0] == True and seen[3] == True):\n",
    "    mixedAlpha = True\n",
    "if(seen[1] == True and seen[2] == False):\n",
    "    onlyUpper = True\n",
    "if(seen[0] == False and seen[3] == True):\n",
    "    onlyDig = True\n",
    "\n",
    "print(\"Contains only letters: \" + str(onlyLetters))\n",
    "print(\"Contains only uppercase letters: \" + str(onlyUpper))\n",
    "print(\"Contains only lowercase letters: \" + str(onlyLower))\n",
    "print(\"Contains only digits: \" + str(onlyDig))\n",
    "print(\"Contains only letters and digits: \" + str(mixedAlpha))\n",
    "print(\"Starts with an uppercase letter: \" + str(startUpper))\n",
    "print(\"Ends with a period: \" + str(endPeriod))"
   ]
  },
  {
   "cell_type": "code",
   "execution_count": 21,
   "metadata": {},
   "outputs": [
    {
     "name": "stdout",
     "output_type": "stream",
     "text": [
      "Are you married? (y/n): y\n",
      "How much was your taxable income (Enter numbers only): 1345646\n",
      "The final tax is: $345211.5\n"
     ]
    }
   ],
   "source": [
    "maritalStatusR = input(\"Are you married? (y/n): \")\n",
    "maritalStatus = False\n",
    "if(maritalStatusR == 'y'):\n",
    "    maritalStatus = True\n",
    "income = int(input(\"How much was your taxable income (Enter numbers only): \"))\n",
    "\n",
    "tax = 0\n",
    "\n",
    "if (maritalStatus == True):\n",
    "    if (income <= 16000):\n",
    "        tax = income * .1\n",
    "    elif (income <= 64000):\n",
    "        tax = (income * .15) + 1600\n",
    "    else:\n",
    "        tax = (income * .25) + 8800\n",
    "else:\n",
    "    if (income <= 8000):\n",
    "        tax = income * .1\n",
    "    elif (income <= 32000):\n",
    "        tax = (income * .15) + 800\n",
    "    else:\n",
    "        tax = (income * .25) + 4400\n",
    "        \n",
    "print(\"The final tax is: $\" + str(round(tax,2)))"
   ]
  },
  {
   "cell_type": "code",
   "execution_count": 28,
   "metadata": {},
   "outputs": [
    {
     "name": "stdout",
     "output_type": "stream",
     "text": [
      "Convert from (fl. oz, gal, oz, lb, in, ft, mi): mi\n",
      "Convert to (ml, l, g, kg, mm, cm, m, km): km\n",
      "value: 1\n",
      "1 mi = 1.609 km\n"
     ]
    }
   ],
   "source": [
    "def printErr():\n",
    "    print(\"Incompatable types\")\n",
    "\n",
    "    \n",
    "compatable = False\n",
    "while(not compatable):\n",
    "    convert = input(\"Convert from (fl. oz, gal, oz, lb, in, ft, mi): \")\n",
    "    convertFinal = input(\"Convert to (ml, l, g, kg, mm, cm, m, km): \")\n",
    "    if (convert == \"fl. oz\" or convert == \"gal\"): #Fluid\n",
    "        if (convertFinal == \"ml\" or convertFinal == \"l\"):\n",
    "            compatable = True\n",
    "        else: printErr()\n",
    "    elif (convert == \"oz\" or convert == \"lb\"): #Weight\n",
    "        if (convertFinal == \"g\" or convertFinal == \"kg\"):\n",
    "            compatable = True\n",
    "        else: printErr()\n",
    "    else: # Length\n",
    "        if (convertFinal == \"mm\" or convertFinal == \"cm\" or convertFinal == \"m\" or convertFinal == \"km\"):\n",
    "            compatable = True\n",
    "        else: printErr()\n",
    "\n",
    "            \n",
    "value = int(input(\"value: \"))  \n",
    "standardMetric = 0\n",
    "converted = 0\n",
    "\n",
    "\n",
    "if (convert == \"fl. oz\" or convert == \"gal\"): # Fluids\n",
    "    if (convert == \"fl. oz\"): # Converts fl. oz to liters\n",
    "        standardMetric = value / 33.814\n",
    "    else: standardMetric = value * 3.785 # Converts gal to liters\n",
    "        \n",
    "    if (convertFinal == \"ml\"): # Converts liters to milliliters\n",
    "        converted = standardMetric * 1000\n",
    "    else: converted = standardMetric\n",
    "\n",
    "elif (convert == \"oz\" or convert == \"lb\"): # Weights\n",
    "    if (convert == \"oz\"): # Converts oz to grams\n",
    "        standardMetric = value * 28.34952\n",
    "    else: standardMetric = value * 453.59237 # Converts lb to grams\n",
    "        \n",
    "    if (convertFinal == \"kg\"): # Converts grams to kilograms\n",
    "        converted = standardMetric / 1000\n",
    "    else: converted = standardMetric\n",
    "\n",
    "else: # Length\n",
    "    if (convert == \"in\"): # Converts inches to meters\n",
    "        standardMetric = value / 39.37\n",
    "    elif (convert == \"ft\"): # Converts feet to meters\n",
    "        standardMetric = value / 3.281\n",
    "    else: # Converts miles to meters\n",
    "        standardMetric = value * 1609.34\n",
    "    \n",
    "    if (convertFinal == \"mm\"): # Converts meters to millimeters\n",
    "        converted = standardMetric * 1000\n",
    "    elif (convertFinal == \"cm\"): # Converts meters to centimeters\n",
    "        converted = standardMetric * 100\n",
    "    elif (convertFinal == \"km\"): # Converts meters to kilometers\n",
    "        converted = standardMetric / 1000\n",
    "    else:\n",
    "        converted = standardMetric\n",
    "            \n",
    "            \n",
    "converted = round(converted, 3)\n",
    "print(f\"{value} {convert} = {converted} {convertFinal}\")"
   ]
  },
  {
   "cell_type": "code",
   "execution_count": null,
   "metadata": {},
   "outputs": [],
   "source": []
  }
 ],
 "metadata": {
  "kernelspec": {
   "display_name": "Python 3",
   "language": "python",
   "name": "python3"
  },
  "language_info": {
   "codemirror_mode": {
    "name": "ipython",
    "version": 3
   },
   "file_extension": ".py",
   "mimetype": "text/x-python",
   "name": "python",
   "nbconvert_exporter": "python",
   "pygments_lexer": "ipython3",
   "version": "3.8.3"
  }
 },
 "nbformat": 4,
 "nbformat_minor": 4
}
